{
 "cells": [
  {
   "cell_type": "code",
   "execution_count": 1,
   "metadata": {},
   "outputs": [
    {
     "name": "stdout",
     "output_type": "stream",
     "text": [
      "Output of list1\n",
      "[12, 5, 64]\n",
      "Output of list2\n",
      "[12, 14, 3]\n"
     ]
    }
   ],
   "source": [
    "# Printing positive numbers\n",
    "\n",
    "list1 = [12,-7,5,64,-14]\n",
    "outl1 = []\n",
    "print('Output of list1')\n",
    "for i in list1:\n",
    "    if i > 0:\n",
    "        outl1.append(i)\n",
    "print(outl1)\n",
    "\n",
    "list2 = [12,14,-95,3]\n",
    "outl2 = []\n",
    "print('Output of list2')\n",
    "for j in list2:\n",
    "    if j > 0:\n",
    "        outl2.append(j)\n",
    "print(outl2)\n"
   ]
  },
  {
   "cell_type": "code",
   "execution_count": null,
   "metadata": {},
   "outputs": [],
   "source": []
  }
 ],
 "metadata": {
  "kernelspec": {
   "display_name": "Python 3",
   "language": "python",
   "name": "python3"
  },
  "language_info": {
   "codemirror_mode": {
    "name": "ipython",
    "version": 3
   },
   "file_extension": ".py",
   "mimetype": "text/x-python",
   "name": "python",
   "nbconvert_exporter": "python",
   "pygments_lexer": "ipython3",
   "version": "3.7.3"
  }
 },
 "nbformat": 4,
 "nbformat_minor": 2
}
