{
 "cells": [
  {
   "cell_type": "code",
   "execution_count": 3,
   "metadata": {},
   "outputs": [
    {
     "name": "stdout",
     "output_type": "stream",
     "text": [
      "Enter the Filename:abcd.py\n",
      "The extension of file is \"Python\"\n"
     ]
    }
   ],
   "source": [
    "filename = input('Enter the Filename:')\n",
    "fname , fextension = filename.split('.')\n",
    "\n",
    "if fextension == 'py':\n",
    "    print('The extension of file is \"Python\"') # exclusively for py extension\n",
    "else:\n",
    "    print(f'The extension of file is \"{fextension}\"')"
   ]
  },
  {
   "cell_type": "code",
   "execution_count": null,
   "metadata": {},
   "outputs": [],
   "source": []
  }
 ],
 "metadata": {
  "kernelspec": {
   "display_name": "Python 3",
   "language": "python",
   "name": "python3"
  },
  "language_info": {
   "codemirror_mode": {
    "name": "ipython",
    "version": 3
   },
   "file_extension": ".py",
   "mimetype": "text/x-python",
   "name": "python",
   "nbconvert_exporter": "python",
   "pygments_lexer": "ipython3",
   "version": "3.7.3"
  }
 },
 "nbformat": 4,
 "nbformat_minor": 2
}
