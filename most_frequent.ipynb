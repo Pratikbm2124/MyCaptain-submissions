{
 "cells": [
  {
   "cell_type": "code",
   "execution_count": 1,
   "metadata": {},
   "outputs": [
    {
     "name": "stdout",
     "output_type": "stream",
     "text": [
      "s=4\n",
      "i=4\n",
      "p=2\n",
      "M=1\n"
     ]
    }
   ],
   "source": [
    "# Take a string and print the letters in decreasing order of frequency.\n",
    "def most_frequent(string):\n",
    "\n",
    "    #create empty dictionary and a list\n",
    "    dict = {}\n",
    "    list = []\n",
    "    for let in string:\n",
    "        lcount = string.count(let)\n",
    "        dict[let] = str(lcount)  #append the letter and its frequency to the dictionary\n",
    "\n",
    "\n",
    "\n",
    "    \n",
    "\n",
    "    for i,j in dict.items():\n",
    "        list.append(str(j)+'='+i)\n",
    "\n",
    "    list.sort(reverse = True)\n",
    "\n",
    "    for i in list:\n",
    "        i = i[-1::-1]  # reversal of the string\n",
    "        print(i)\n",
    "\n",
    "\n",
    "\n",
    "most_frequent('Mississippi')\n"
   ]
  },
  {
   "cell_type": "code",
   "execution_count": null,
   "metadata": {},
   "outputs": [],
   "source": []
  }
 ],
 "metadata": {
  "kernelspec": {
   "display_name": "Python 3",
   "language": "python",
   "name": "python3"
  },
  "language_info": {
   "codemirror_mode": {
    "name": "ipython",
    "version": 3
   },
   "file_extension": ".py",
   "mimetype": "text/x-python",
   "name": "python",
   "nbconvert_exporter": "python",
   "pygments_lexer": "ipython3",
   "version": "3.7.3"
  }
 },
 "nbformat": 4,
 "nbformat_minor": 2
}
